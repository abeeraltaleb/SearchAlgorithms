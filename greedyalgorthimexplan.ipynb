{
 "cells": [
  {
   "cell_type": "code",
   "execution_count": 26,
   "id": "68cfabc6",
   "metadata": {
    "scrolled": false
   },
   "outputs": [
    {
     "name": "stdout",
     "output_type": "stream",
     "text": [
      "[[['1', '2'], 6]]\n",
      "[[['1', '2'], 6], [['1', '4'], 7]]\n",
      "queuefinaldddddddddddddddddddddddddddddddddddddddddddddddddddddddddddddddddddddddddddddd after [[['1', '2'], 6], [['1', '4'], 7]]\n",
      "viised final after ['1']\n",
      "[[['1', '4'], 7], [['1', '2', '3'], 5]]\n",
      "[[['1', '4'], 7], [['1', '2', '3'], 5], [['1', '2', '5'], 3]]\n",
      "queuefinaldddddddddddddddddddddddddddddddddddddddddddddddddddddddddddddddddddddddddddddd after [[['1', '2', '5'], 3], [['1', '2', '3'], 5], [['1', '4'], 7]]\n",
      "viised final after ['1', '2']\n",
      "[[['1', '2', '3'], 5], [['1', '4'], 7], [['1', '2', '5', '4'], 7]]\n",
      "[[['1', '2', '3'], 5], [['1', '4'], 7], [['1', '2', '5', '4'], 7], [['1', '2', '5', '6'], 0]]\n",
      "queuefinaldddddddddddddddddddddddddddddddddddddddddddddddddddddddddddddddddddddddddddddd after [[['1', '2', '5', '6'], 0], [['1', '2', '3'], 5], [['1', '4'], 7], [['1', '2', '5', '4'], 7]]\n",
      "viised final after ['1', '2', '5']\n",
      "the goal path is\n",
      "[['1', '2', '5', '6'], 0]\n"
     ]
    }
   ],
   "source": [
    "#Greedy best-First Search\n",
    "import copy\n",
    "robot_in_rooms = {\n",
    "    \"1\":[\"2\",\"4\"],\n",
    "    \"2\":[\"1\",\"3\",\"5\"],\n",
    "    \"3\":[\"2\",\"5\",\"6\"],\n",
    "    \"4\":[\"1\",\"2\",\"5\"],\n",
    "    \"5\":[\"2\",\"4\",\"6\"],\n",
    "    \"6\":[\"2\",\"3\",\"5\"]\n",
    "}\n",
    "h = {\n",
    "    \"1\":13,\n",
    "    \"2\":6,\n",
    "    \"3\":5,\n",
    "    \"4\":7,\n",
    "    \"5\":3,\n",
    "    \"6\":0\n",
    "}\n",
    "def greedy_best_first_Search(robot_in_rooms,start,goal):\n",
    "    path=[]\n",
    "#     list1 -1 list2 0 list3 -1\n",
    "    queue=[[[start],h[start]]]\n",
    "    visited=[]\n",
    "    while queue!=[]:\n",
    "#         add firse elemen to in queue and deletet from queue\n",
    "        path.append(queue.pop(0))\n",
    "#     node is 1\n",
    "        node=path[-1][0][-1]\n",
    "#     add node to visited list\n",
    "        visited.append(node)\n",
    "# node=6 return path\n",
    "        if node == goal:\n",
    "            goalPath=copy.deepcopy(path[-1])\n",
    "            print(\"the goal path is\")\n",
    "            return goalPath\n",
    "# to expan other nodes \n",
    "        for neighbor in robot_in_rooms[node]:\n",
    "#         if not in visted\n",
    "            if neighbor not in visited:\n",
    "#         1,13 node hurestic\n",
    "                new_path=copy.deepcopy(path[-1])\n",
    "#     new_path[0] 2 new node \n",
    "                new_path[0].append(neighbor)\n",
    "#     newpath[1] husstic of 2 is6\n",
    "                new_path[1]=h[neighbor]\n",
    "#     add new pat to queue [1,2],6\n",
    "                queue.append(new_path)\n",
    "                print(queue)\n",
    "#      sort queue based on hurseic\n",
    "        queue.sort(key=lambda x:x[1])\n",
    "        print(\"queuefinaldddddddddddddddddddddddddddddddddddddddddddddddddddddddddddddddddddddddddddddd after\",queue)\n",
    "        print(\"viised final after\",visited)\n",
    "\n",
    "\n",
    "print(greedy_best_first_Search(robot_in_rooms,'1','6'))"
   ]
  },
  {
   "cell_type": "code",
   "execution_count": 22,
   "id": "a543e7db",
   "metadata": {},
   "outputs": [
    {
     "data": {
      "text/plain": [
       "[('john', 'A', 15), ('jane', 'B', 12), ('dave', 'B', 10)]"
      ]
     },
     "execution_count": 22,
     "metadata": {},
     "output_type": "execute_result"
    }
   ],
   "source": [
    "student_tuples = [\n",
    "    ('john', 'A', 15),\n",
    "    ('jane', 'B', 12),\n",
    "    ('dave', 'B', 10),]\n",
    "sorted(student_tuples, key=lambda student: student[1])   # sort by age\n",
    "# >>>>[('dave', 'B', 10), ('jane', 'B', 12), ('john', 'A', 15)]"
   ]
  },
  {
   "cell_type": "code",
   "execution_count": 54,
   "id": "1a9b9574",
   "metadata": {},
   "outputs": [
    {
     "name": "stdout",
     "output_type": "stream",
     "text": [
      "13\n"
     ]
    }
   ],
   "source": [
    "list2=[[7,[11,12,13],8,9]]\n",
    "print(list2[-1][1][-1])"
   ]
  }
 ],
 "metadata": {
  "kernelspec": {
   "display_name": "Python 3 (ipykernel)",
   "language": "python",
   "name": "python3"
  },
  "language_info": {
   "codemirror_mode": {
    "name": "ipython",
    "version": 3
   },
   "file_extension": ".py",
   "mimetype": "text/x-python",
   "name": "python",
   "nbconvert_exporter": "python",
   "pygments_lexer": "ipython3",
   "version": "3.9.12"
  }
 },
 "nbformat": 4,
 "nbformat_minor": 5
}
