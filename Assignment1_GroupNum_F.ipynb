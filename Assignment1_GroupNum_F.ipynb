{
 "cells": [
  {
   "cell_type": "markdown",
   "id": "81b4cc86",
   "metadata": {},
   "source": [
    "### Team Members\n",
    "\n",
    "                              "
   ]
  },
  {
   "cell_type": "markdown",
   "id": "75ecb01b",
   "metadata": {},
   "source": [
    "-  Reem Nasser \n",
    "    Breadth-First Search Algorithm \n",
    "- Aseel Binnouh \n",
    "    Depth-First Search Algorithm \n",
    "-  Abeer AL-Talib \n",
    "    Greedy Best-first Search Algorithm\n",
    "-  Hanan Alqahtani\n",
    "    A* Search Algorithm\n"
   ]
  },
  {
   "cell_type": "markdown",
   "id": "a1e3c0c1",
   "metadata": {},
   "source": [
    "### Reem Nasser 441000158 Breadth-First Search Algorithm"
   ]
  },
  {
   "cell_type": "code",
   "execution_count": 3,
   "id": "cae25855",
   "metadata": {
    "scrolled": true
   },
   "outputs": [
    {
     "name": "stdout",
     "output_type": "stream",
     "text": [
      "['1', '2', '4', '5', '3', '6']\n"
     ]
    }
   ],
   "source": [
    "# Breadth-First Search Algorithm\n",
    "room = {\n",
    "    '1' : ['2','4'],\n",
    "    '2' : ['5','3','1'],\n",
    "    '4' : ['5','1'], \n",
    "    '3' : ['6','2'],\n",
    "    '5' : ['4','2'],\n",
    "    '6' : ['5','3'] \n",
    "           }\n",
    "def bfs(room, start, goal):  \n",
    "    visited = []\n",
    "    queue = []\n",
    "    queue.append(start)\n",
    "    visited.append(start)\n",
    "\n",
    "    while queue:\n",
    "        path = queue.pop(0)\n",
    "        \n",
    "        if path == goal:\n",
    "            return visited\n",
    "\n",
    "        for adjacent in room.get(path, []):\n",
    "            if adjacent not in visited:\n",
    "                queue.append(adjacent)\n",
    "                visited.append(adjacent)\n",
    "\n",
    "    return visited\n",
    "\n",
    "print(bfs(room, '1', '6'))\n"
   ]
  },
  {
   "cell_type": "markdown",
   "id": "3fcace8a",
   "metadata": {},
   "source": [
    "### Aseel Binnouh 441000451 Depth-First Search Algorithm"
   ]
  },
  {
   "cell_type": "code",
   "execution_count": 2,
   "id": "37ae3015",
   "metadata": {},
   "outputs": [
    {
     "name": "stdout",
     "output_type": "stream",
     "text": [
      "The Path in Depth First Search Algorithms :\n",
      "The robot can move from initial room {1} to goal room {6} with meny path\n"
     ]
    },
    {
     "data": {
      "text/plain": [
       "['1', '2', '3', '6']"
      ]
     },
     "execution_count": 2,
     "metadata": {},
     "output_type": "execute_result"
    }
   ],
   "source": [
    "robot_room = {'1': set(['2', '4']),\n",
    "              '2': set(['1', '3', '5']),\n",
    "              '3': set(['2', '6']),\n",
    "              '4': set(['1', '5']),\n",
    "              '5': set(['2', '4','6']),\n",
    "              '6': set(['3', '5'])\n",
    "             }\n",
    "\n",
    "def dfs_paths(robot_room, start, goal):\n",
    "    stack = [(start, [start])]\n",
    "    while stack:\n",
    "        (room, path) = stack.pop()\n",
    "        for next in robot_room[room] -set(path):\n",
    "            if next == goal:\n",
    "                return path + [next]  #return one path when we locate the goal.\n",
    "                #yield  path + [next] # yield print each possible path when we locate the goal  \n",
    "            else:\n",
    "                stack.append((next, path + [next]))\n",
    "                \n",
    "print('The Path in Depth First Search Algorithms :')\n",
    "print('The robot can move from initial room {1} to goal room {6} with meny path')\n",
    "\n",
    "list(dfs_paths(robot_room, '1', '6')) "
   ]
  },
  {
   "cell_type": "markdown",
   "id": "7155baac",
   "metadata": {},
   "source": [
    "### Abeer AL-Talib 441000433 Greedy Best-first Search Algorithm"
   ]
  },
  {
   "cell_type": "code",
   "execution_count": 8,
   "id": "8160fb9e",
   "metadata": {},
   "outputs": [
    {
     "name": "stdout",
     "output_type": "stream",
     "text": [
      "[['1', '2', '5', '6'], 0]\n"
     ]
    }
   ],
   "source": [
    "#Greedy best-First Search\n",
    "import copy\n",
    "robot_in_rooms = {\n",
    "    \"1\":[\"2\",\"4\"],\n",
    "    \"2\":[\"1\",\"3\",\"5\"],\n",
    "    \"3\":[\"2\",\"5\",\"6\"],\n",
    "    \"4\":[\"1\",\"2\",\"5\"],\n",
    "    \"5\":[\"2\",\"4\",\"6\"],\n",
    "    \"6\":[\"2\",\"3\",\"5\"]\n",
    "}\n",
    "h = {\n",
    "    \"1\":13,\n",
    "    \"2\":6,\n",
    "    \"3\":5,\n",
    "    \"4\":7,\n",
    "    \"5\":3,\n",
    "    \"6\":0\n",
    "}\n",
    "def greedy_best_first_Search(robot_in_rooms,start,goal):\n",
    "    path=[]\n",
    "    queue=[[[start],h[start]]]\n",
    "    visited=[]\n",
    "    while queue!=[]:\n",
    "        path.append(queue.pop(0))\n",
    "        node=path[-1][0][-1]\n",
    "        visited.append(node)\n",
    "        if node == goal:\n",
    "            goalPath=copy.deepcopy(path[-1])\n",
    "            return goalPath\n",
    "        for neighbor in robot_in_rooms[node]:\n",
    "            if neighbor not in visited:\n",
    "                new_path=copy.deepcopy(path[-1])\n",
    "                new_path[0].append(neighbor)\n",
    "                new_path[1]=h[neighbor]\n",
    "                queue.append(new_path)\n",
    "        queue.sort(key=lambda x:x[1])\n",
    "print(greedy_best_first_Search(robot_in_rooms,'1','6'))"
   ]
  },
  {
   "cell_type": "markdown",
   "id": "e0eaaa0c",
   "metadata": {},
   "source": [
    "### Hanan Alqahtani 441009314 A* Search Algorithm"
   ]
  },
  {
   "cell_type": "code",
   "execution_count": 1,
   "id": "c84084de",
   "metadata": {},
   "outputs": [],
   "source": [
    "def AStar_Algo(start_node, stop_node):\n",
    "    open_set = set(start_node)\n",
    "    closed_set = set()\n",
    "    #store distance from starting node\n",
    "    g = {}\n",
    "    # parents contains an adjacency map of all nodes\n",
    "    parents = {}  \n",
    "    #distance of starting node from itself is zero\n",
    "    g[start_node] = 0\n",
    "    #start_node is root node i.e it has no parent nodes\n",
    "    #so start_node is set to its own parent node\n",
    "    parents[start_node] = start_node\n",
    "    while len(open_set) > 0:\n",
    "        n = None\n",
    "        #node with lowest f() is found\n",
    "        for v in open_set:\n",
    "            if n == None or g[v] + heuristic(v) < g[n] + heuristic(n):\n",
    "                n = v\n",
    "        if n == stop_node or Graph_ofrooms_number[n] == None:\n",
    "            pass\n",
    "        else:\n",
    "            for (m, weight) in get_rooms(n):\n",
    "                #nodes 'm' not in first and last set are added to first\n",
    "                #n is set its parent\n",
    "                if m not in open_set and m not in closed_set:\n",
    "                    open_set.add(m)\n",
    "                    parents[m] = n\n",
    "                    g[m] = g[n] + weight\n",
    "                #for each node m,compare its distance from start i.e g(m) to the\n",
    "                #from start through n node\n",
    "                else:\n",
    "                    if g[m] > g[n] + weight:\n",
    "                        #update g(m)\n",
    "                        g[m] = g[n] + weight\n",
    "                        #change parent of m to n\n",
    "                        parents[m] = n\n",
    "                        #if m in closed set,remove and add to open\n",
    "                        if m in closed_set:\n",
    "                            closed_set.remove(m)\n",
    "                            open_set.add(m)\n",
    "        if n == None:\n",
    "            print('Path does not exist!')\n",
    "            return None\n",
    "        \n",
    "        # if the current node is the stop_node\n",
    "        # then we begin reconstructin the path from it to the start_node\n",
    "        if n == stop_node:\n",
    "            path = []\n",
    "            while parents[n] != n:\n",
    "                path.append(n)\n",
    "                n = parents[n]\n",
    "            path.append(start_node)\n",
    "            path.reverse()\n",
    "            print('Path found: {}'.format(path))\n",
    "            return path\n",
    "        # remove n from the open_list, and add it to closed_list\n",
    "        # because all of his neighbors were inspected\n",
    "        open_set.remove(n)\n",
    "        closed_set.add(n)\n",
    "    print('Path does not exist!')\n",
    "    return None\n",
    "\n"
   ]
  },
  {
   "cell_type": "code",
   "execution_count": 3,
   "id": "8ce3e112",
   "metadata": {},
   "outputs": [
    {
     "name": "stdout",
     "output_type": "stream",
     "text": [
      "Path found: ['1', '2', '3', '6']\n"
     ]
    },
    {
     "data": {
      "text/plain": [
       "['1', '2', '3', '6']"
      ]
     },
     "execution_count": 3,
     "metadata": {},
     "output_type": "execute_result"
    }
   ],
   "source": [
    "# define fuction to return ROOMS \n",
    "#from the passed node\n",
    "def get_rooms(v):\n",
    "    if v in Graph_ofrooms_number:\n",
    "        return Graph_ofrooms_number[v]\n",
    "    else:\n",
    "        return None\n",
    "    \n",
    "#for simplicity we'll consider heuristic distances given\n",
    "#and this function returns heuristic distance for all nodes\n",
    "def heuristic(n):\n",
    "    H_dist = {\n",
    "        '1': 13,\n",
    "        '2': 6,\n",
    "        '3': 5,\n",
    "        '4': 7,\n",
    "        '5': 3,\n",
    "        '6': 20\n",
    "    }\n",
    "    return H_dist[n]\n",
    "#2,4,1,3,5,\n",
    "#Describe your graph here\n",
    "Graph_ofrooms_number = {\n",
    "    '1': [('2', 11), ('4', 3)],\n",
    "    '2': [('1', 11), ('3', 4), ('5', 10)],\n",
    "    '3': [('2', 4), ('6', 2)],\n",
    "    '4': [('1', 4), ('5', 14)],\n",
    "    '5': [('2', 10), ('4', 14), ('6', 7)],\n",
    "    '6': [('3',2), ('5', 7)]\n",
    "}\n",
    "\n",
    "AStar_Algo('1', '6')"
   ]
  }
 ],
 "metadata": {
  "kernelspec": {
   "display_name": "Python 3 (ipykernel)",
   "language": "python",
   "name": "python3"
  },
  "language_info": {
   "codemirror_mode": {
    "name": "ipython",
    "version": 3
   },
   "file_extension": ".py",
   "mimetype": "text/x-python",
   "name": "python",
   "nbconvert_exporter": "python",
   "pygments_lexer": "ipython3",
   "version": "3.9.12"
  }
 },
 "nbformat": 4,
 "nbformat_minor": 5
}
